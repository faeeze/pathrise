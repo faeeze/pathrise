{
  "nbformat": 4,
  "nbformat_minor": 0,
  "metadata": {
    "colab": {
      "provenance": []
    },
    "kernelspec": {
      "name": "python3",
      "display_name": "Python 3"
    },
    "language_info": {
      "name": "python"
    }
  },
  "cells": [
    {
      "cell_type": "code",
      "execution_count": null,
      "metadata": {
        "id": "p01T7TlQvpw3"
      },
      "outputs": [],
      "source": [
        "import pandas as pd\n",
        "import matplotlib.pyplot as plt\n",
        "import numpy as np\n",
        "import seaborn as sns"
      ]
    },
    {
      "cell_type": "code",
      "source": [
        "from google. colab import files\n",
        "uploaded=files.upload()"
      ],
      "metadata": {
        "colab": {
          "base_uri": "https://localhost:8080/",
          "height": 75
        },
        "id": "Vvk-0-ZbvwsL",
        "outputId": "a573a14e-6bc9-4da2-deb5-a2a47b03cfef"
      },
      "execution_count": null,
      "outputs": [
        {
          "output_type": "display_data",
          "data": {
            "text/plain": [
              "<IPython.core.display.HTML object>"
            ],
            "text/html": [
              "\n",
              "     <input type=\"file\" id=\"files-43be8684-4014-40e9-a0cc-f9c6fdea70a1\" name=\"files[]\" multiple disabled\n",
              "        style=\"border:none\" />\n",
              "     <output id=\"result-43be8684-4014-40e9-a0cc-f9c6fdea70a1\">\n",
              "      Upload widget is only available when the cell has been executed in the\n",
              "      current browser session. Please rerun this cell to enable.\n",
              "      </output>\n",
              "      <script>// Copyright 2017 Google LLC\n",
              "//\n",
              "// Licensed under the Apache License, Version 2.0 (the \"License\");\n",
              "// you may not use this file except in compliance with the License.\n",
              "// You may obtain a copy of the License at\n",
              "//\n",
              "//      http://www.apache.org/licenses/LICENSE-2.0\n",
              "//\n",
              "// Unless required by applicable law or agreed to in writing, software\n",
              "// distributed under the License is distributed on an \"AS IS\" BASIS,\n",
              "// WITHOUT WARRANTIES OR CONDITIONS OF ANY KIND, either express or implied.\n",
              "// See the License for the specific language governing permissions and\n",
              "// limitations under the License.\n",
              "\n",
              "/**\n",
              " * @fileoverview Helpers for google.colab Python module.\n",
              " */\n",
              "(function(scope) {\n",
              "function span(text, styleAttributes = {}) {\n",
              "  const element = document.createElement('span');\n",
              "  element.textContent = text;\n",
              "  for (const key of Object.keys(styleAttributes)) {\n",
              "    element.style[key] = styleAttributes[key];\n",
              "  }\n",
              "  return element;\n",
              "}\n",
              "\n",
              "// Max number of bytes which will be uploaded at a time.\n",
              "const MAX_PAYLOAD_SIZE = 100 * 1024;\n",
              "\n",
              "function _uploadFiles(inputId, outputId) {\n",
              "  const steps = uploadFilesStep(inputId, outputId);\n",
              "  const outputElement = document.getElementById(outputId);\n",
              "  // Cache steps on the outputElement to make it available for the next call\n",
              "  // to uploadFilesContinue from Python.\n",
              "  outputElement.steps = steps;\n",
              "\n",
              "  return _uploadFilesContinue(outputId);\n",
              "}\n",
              "\n",
              "// This is roughly an async generator (not supported in the browser yet),\n",
              "// where there are multiple asynchronous steps and the Python side is going\n",
              "// to poll for completion of each step.\n",
              "// This uses a Promise to block the python side on completion of each step,\n",
              "// then passes the result of the previous step as the input to the next step.\n",
              "function _uploadFilesContinue(outputId) {\n",
              "  const outputElement = document.getElementById(outputId);\n",
              "  const steps = outputElement.steps;\n",
              "\n",
              "  const next = steps.next(outputElement.lastPromiseValue);\n",
              "  return Promise.resolve(next.value.promise).then((value) => {\n",
              "    // Cache the last promise value to make it available to the next\n",
              "    // step of the generator.\n",
              "    outputElement.lastPromiseValue = value;\n",
              "    return next.value.response;\n",
              "  });\n",
              "}\n",
              "\n",
              "/**\n",
              " * Generator function which is called between each async step of the upload\n",
              " * process.\n",
              " * @param {string} inputId Element ID of the input file picker element.\n",
              " * @param {string} outputId Element ID of the output display.\n",
              " * @return {!Iterable<!Object>} Iterable of next steps.\n",
              " */\n",
              "function* uploadFilesStep(inputId, outputId) {\n",
              "  const inputElement = document.getElementById(inputId);\n",
              "  inputElement.disabled = false;\n",
              "\n",
              "  const outputElement = document.getElementById(outputId);\n",
              "  outputElement.innerHTML = '';\n",
              "\n",
              "  const pickedPromise = new Promise((resolve) => {\n",
              "    inputElement.addEventListener('change', (e) => {\n",
              "      resolve(e.target.files);\n",
              "    });\n",
              "  });\n",
              "\n",
              "  const cancel = document.createElement('button');\n",
              "  inputElement.parentElement.appendChild(cancel);\n",
              "  cancel.textContent = 'Cancel upload';\n",
              "  const cancelPromise = new Promise((resolve) => {\n",
              "    cancel.onclick = () => {\n",
              "      resolve(null);\n",
              "    };\n",
              "  });\n",
              "\n",
              "  // Wait for the user to pick the files.\n",
              "  const files = yield {\n",
              "    promise: Promise.race([pickedPromise, cancelPromise]),\n",
              "    response: {\n",
              "      action: 'starting',\n",
              "    }\n",
              "  };\n",
              "\n",
              "  cancel.remove();\n",
              "\n",
              "  // Disable the input element since further picks are not allowed.\n",
              "  inputElement.disabled = true;\n",
              "\n",
              "  if (!files) {\n",
              "    return {\n",
              "      response: {\n",
              "        action: 'complete',\n",
              "      }\n",
              "    };\n",
              "  }\n",
              "\n",
              "  for (const file of files) {\n",
              "    const li = document.createElement('li');\n",
              "    li.append(span(file.name, {fontWeight: 'bold'}));\n",
              "    li.append(span(\n",
              "        `(${file.type || 'n/a'}) - ${file.size} bytes, ` +\n",
              "        `last modified: ${\n",
              "            file.lastModifiedDate ? file.lastModifiedDate.toLocaleDateString() :\n",
              "                                    'n/a'} - `));\n",
              "    const percent = span('0% done');\n",
              "    li.appendChild(percent);\n",
              "\n",
              "    outputElement.appendChild(li);\n",
              "\n",
              "    const fileDataPromise = new Promise((resolve) => {\n",
              "      const reader = new FileReader();\n",
              "      reader.onload = (e) => {\n",
              "        resolve(e.target.result);\n",
              "      };\n",
              "      reader.readAsArrayBuffer(file);\n",
              "    });\n",
              "    // Wait for the data to be ready.\n",
              "    let fileData = yield {\n",
              "      promise: fileDataPromise,\n",
              "      response: {\n",
              "        action: 'continue',\n",
              "      }\n",
              "    };\n",
              "\n",
              "    // Use a chunked sending to avoid message size limits. See b/62115660.\n",
              "    let position = 0;\n",
              "    do {\n",
              "      const length = Math.min(fileData.byteLength - position, MAX_PAYLOAD_SIZE);\n",
              "      const chunk = new Uint8Array(fileData, position, length);\n",
              "      position += length;\n",
              "\n",
              "      const base64 = btoa(String.fromCharCode.apply(null, chunk));\n",
              "      yield {\n",
              "        response: {\n",
              "          action: 'append',\n",
              "          file: file.name,\n",
              "          data: base64,\n",
              "        },\n",
              "      };\n",
              "\n",
              "      let percentDone = fileData.byteLength === 0 ?\n",
              "          100 :\n",
              "          Math.round((position / fileData.byteLength) * 100);\n",
              "      percent.textContent = `${percentDone}% done`;\n",
              "\n",
              "    } while (position < fileData.byteLength);\n",
              "  }\n",
              "\n",
              "  // All done.\n",
              "  yield {\n",
              "    response: {\n",
              "      action: 'complete',\n",
              "    }\n",
              "  };\n",
              "}\n",
              "\n",
              "scope.google = scope.google || {};\n",
              "scope.google.colab = scope.google.colab || {};\n",
              "scope.google.colab._files = {\n",
              "  _uploadFiles,\n",
              "  _uploadFilesContinue,\n",
              "};\n",
              "})(self);\n",
              "</script> "
            ]
          },
          "metadata": {}
        },
        {
          "output_type": "stream",
          "name": "stdout",
          "text": [
            "Saving Data_Pathrise.xlsx to Data_Pathrise.xlsx\n"
          ]
        }
      ]
    },
    {
      "cell_type": "code",
      "source": [
        "dt=pd.read_excel('Data_Pathrise.xlsx')\n",
        "df=dt"
      ],
      "metadata": {
        "id": "7l-0stXAvy-L"
      },
      "execution_count": null,
      "outputs": []
    },
    {
      "cell_type": "code",
      "source": [
        "df.info()"
      ],
      "metadata": {
        "id": "p0plMosBv1iF",
        "colab": {
          "base_uri": "https://localhost:8080/"
        },
        "outputId": "da68e4ea-817d-4a46-8f8b-a740651145b3"
      },
      "execution_count": null,
      "outputs": [
        {
          "output_type": "stream",
          "name": "stdout",
          "text": [
            "<class 'pandas.core.frame.DataFrame'>\n",
            "RangeIndex: 2544 entries, 0 to 2543\n",
            "Data columns (total 16 columns):\n",
            " #   Column                       Non-Null Count  Dtype  \n",
            "---  ------                       --------------  -----  \n",
            " 0   id                           2544 non-null   int64  \n",
            " 1   pathrise_status              2544 non-null   object \n",
            " 2   primary_track                2544 non-null   object \n",
            " 3   cohort_tag                   2536 non-null   object \n",
            " 4   program_duration_days        1928 non-null   float64\n",
            " 5   placed                       2544 non-null   int64  \n",
            " 6   employment_status            2315 non-null   object \n",
            " 7   highest_level_of_education   2486 non-null   object \n",
            " 8   length_of_job_search         2470 non-null   object \n",
            " 9   biggest_challenge_in_search  2520 non-null   object \n",
            " 10  professional_experience      2322 non-null   object \n",
            " 11  work_authorization_status    2260 non-null   object \n",
            " 12  number_of_interviews         2326 non-null   float64\n",
            " 13  number_of_applications       2544 non-null   int64  \n",
            " 14  gender                       2052 non-null   object \n",
            " 15  race                         2526 non-null   object \n",
            "dtypes: float64(2), int64(3), object(11)\n",
            "memory usage: 318.1+ KB\n"
          ]
        }
      ]
    },
    {
      "cell_type": "code",
      "source": [
        "df.isna().sum()"
      ],
      "metadata": {
        "id": "nLUO_Jypv3us",
        "colab": {
          "base_uri": "https://localhost:8080/"
        },
        "outputId": "13364a51-970b-4447-d26e-48c7421a482c"
      },
      "execution_count": null,
      "outputs": [
        {
          "output_type": "execute_result",
          "data": {
            "text/plain": [
              "id                               0\n",
              "pathrise_status                  0\n",
              "primary_track                    0\n",
              "cohort_tag                       8\n",
              "program_duration_days          616\n",
              "placed                           0\n",
              "employment_status              229\n",
              "highest_level_of_education      58\n",
              "length_of_job_search            74\n",
              "biggest_challenge_in_search     24\n",
              "professional_experience        222\n",
              "work_authorization_status      284\n",
              "number_of_interviews           218\n",
              "number_of_applications           0\n",
              "gender                         492\n",
              "race                            18\n",
              "dtype: int64"
            ]
          },
          "metadata": {},
          "execution_count": 5
        }
      ]
    },
    {
      "cell_type": "code",
      "source": [
        "df.drop('id',axis=1,inplace=True)"
      ],
      "metadata": {
        "id": "wgC4okhAv66S"
      },
      "execution_count": null,
      "outputs": []
    },
    {
      "cell_type": "code",
      "source": [
        "df.drop('cohort_tag',axis=1,inplace=True)"
      ],
      "metadata": {
        "id": "zhfQQDVBv-ua"
      },
      "execution_count": null,
      "outputs": []
    },
    {
      "cell_type": "code",
      "source": [
        "df=df[df['pathrise_status']!= 'Active']\n",
        "df=df[df['pathrise_status']!= 'Break']\n",
        "df=df[df['pathrise_status']!= 'MIA']"
      ],
      "metadata": {
        "id": "-HtA6P1nwBnb"
      },
      "execution_count": null,
      "outputs": []
    },
    {
      "cell_type": "code",
      "source": [
        "df.drop('pathrise_status',axis=1,inplace=True)"
      ],
      "metadata": {
        "id": "5We6dzLvynT4"
      },
      "execution_count": null,
      "outputs": []
    },
    {
      "cell_type": "code",
      "source": [
        "sns.countplot(x='placed',data=df)"
      ],
      "metadata": {
        "colab": {
          "base_uri": "https://localhost:8080/",
          "height": 297
        },
        "id": "gD89uY9uydAA",
        "outputId": "9f3daf7b-2aa3-48e9-d986-8aee1fa16518"
      },
      "execution_count": null,
      "outputs": [
        {
          "output_type": "execute_result",
          "data": {
            "text/plain": [
              "<matplotlib.axes._subplots.AxesSubplot at 0x7fba32d20a60>"
            ]
          },
          "metadata": {},
          "execution_count": 10
        },
        {
          "output_type": "display_data",
          "data": {
            "text/plain": [
              "<Figure size 432x288 with 1 Axes>"
            ],
            "image/png": "[encoded data removed]"
          },
          "metadata": {
            "needs_background": "light"
          }
        }
      ]
    },
    {
      "cell_type": "code",
      "source": [
        "numric_df=df[['program_duration_days','number_of_applications','number_of_interviews']]\n",
        "cat_df=df.drop(['program_duration_days','number_of_applications','number_of_interviews'],axis=1)"
      ],
      "metadata": {
        "id": "hijyZwJEnZT9"
      },
      "execution_count": null,
      "outputs": []
    },
    {
      "cell_type": "code",
      "source": [
        "Q1 = numric_df.quantile(0.02)\n",
        "Q3 = numric_df.quantile(0.98)\n",
        "IQR = Q3 - Q1\n",
        "idx = ~((numric_df < (Q1 - 1.5 * IQR)) | (numric_df > (Q3 + 1.5 * IQR))).any(axis=1)\n",
        "df_clean = pd.concat([numric_df.loc[idx], cat_df.loc[idx]], axis=1)"
      ],
      "metadata": {
        "id": "-jmDRguunmq7"
      },
      "execution_count": null,
      "outputs": []
    },
    {
      "cell_type": "code",
      "source": [
        "df['race']=df['race'].replace(np.nan,'East Asian or Asian American')"
      ],
      "metadata": {
        "id": "FaaINiDI1XCh"
      },
      "execution_count": null,
      "outputs": []
    },
    {
      "cell_type": "code",
      "source": [
        "df['highest_level_of_education']=df['highest_level_of_education'].replace(np.nan,\"Bachelor's Degree\")"
      ],
      "metadata": {
        "id": "pNZrhWuInqQL"
      },
      "execution_count": null,
      "outputs": []
    },
    {
      "cell_type": "code",
      "source": [
        "for i in range(0,1928):\n",
        "  if type(df.iloc[i,5]) != str :\n",
        "    #print('length_of_job_search')\n",
        "    if df.iloc[i,7]== '5+ years':\n",
        "       df.iloc[i,5]='Less than one month'\n",
        "    else :\n",
        "       df.iloc[i,5]='1-2 months'"
      ],
      "metadata": {
        "id": "lay1cw97nrz7"
      },
      "execution_count": null,
      "outputs": []
    },
    {
      "cell_type": "code",
      "source": [
        "df['biggest_challenge_in_search']=df['biggest_challenge_in_search'].replace(np.nan,'Hearing back on my applications')"
      ],
      "metadata": {
        "id": "SLGW0nLentlI"
      },
      "execution_count": null,
      "outputs": []
    },
    {
      "cell_type": "code",
      "source": [
        "for i in range(0,1928):\n",
        "  if type(df.iloc[i,7]) != str :\n",
        "    if df.iloc[i,2]==1:\n",
        "      if df.iloc[i,6]=='Getting past phone screens':\n",
        "        df.iloc[i,7]='Less than one year'\n",
        "      elif df.iloc[i,6] =='Figuring out which jobs to apply for' or df.iloc[i,6] ==  'Getting past final round interviews':\n",
        "        df.iloc[i,7]='3-4 years'\n",
        "      else:\n",
        "        df.iloc[i,7]='1-2 years'\n",
        "    else: \n",
        "       if df.iloc[i,6]== 'Technical interviewing':\n",
        "         df.iloc[i,7]='Less than one year'\n",
        "       elif df.iloc[i,6]=='Lack of relevant experience':\n",
        "          df.iloc[i,7]='3-4 years'\n",
        "       else:\n",
        "          df.iloc[i,7]='1-2 years'"
      ],
      "metadata": {
        "id": "Rdv4cwhEnvXi"
      },
      "execution_count": null,
      "outputs": []
    },
    {
      "cell_type": "code",
      "source": [
        "df_success=df[df['placed']==1]\n",
        "df_fail=df[df['placed']==0]"
      ],
      "metadata": {
        "id": "4J3xm9j_nyGt"
      },
      "execution_count": null,
      "outputs": []
    },
    {
      "cell_type": "code",
      "source": [
        "df_success_=df.dropna(subset=['number_of_interviews'])"
      ],
      "metadata": {
        "id": "oqa7KxKen17b"
      },
      "execution_count": null,
      "outputs": []
    },
    {
      "cell_type": "code",
      "source": [
        "df_fail_=df.dropna(subset=['number_of_interviews'])"
      ],
      "metadata": {
        "id": "OcMbwlrJn3t2"
      },
      "execution_count": null,
      "outputs": []
    },
    {
      "cell_type": "code",
      "source": [
        "import statistics"
      ],
      "metadata": {
        "id": "8Mh-dOQ5n5VM"
      },
      "execution_count": null,
      "outputs": []
    },
    {
      "cell_type": "code",
      "source": [
        "for i in range(0,len(df)):\n",
        "  numberofinterv=[]\n",
        "  if type(df.iloc[i,9]) != str :\n",
        "    lenghtofjobS=df.iloc[i,5]\n",
        "    if df.iloc[i,2]==1:\n",
        "      for j in range(0,len(df_success_)):\n",
        "        if df_success_.iloc[j,5]==df.iloc[i,5]:\n",
        "          numberofinterv.append(df_success_.iloc[j,9])\n",
        "      df.iloc[i,9]=statistics.mean(numberofinterv)\n",
        "    else:\n",
        "      for k in range(0,len(df_fail_)):\n",
        "        if df_fail_.iloc[k,5]==df.iloc[i,5]:\n",
        "          numberofinterv.append(df_fail_.iloc[k,9])\n",
        "      df.iloc[i,9]=statistics.mean(numberofinterv)"
      ],
      "metadata": {
        "id": "PHqY-nM0n7Ok"
      },
      "execution_count": null,
      "outputs": []
    },
    {
      "cell_type": "code",
      "source": [
        "for i in range(0,1928):\n",
        "  if type(df.iloc[i,3]) != str :\n",
        "    if df.iloc[i,5]== '6 months to a year':\n",
        "       df.iloc[i,3]='Unemployed'\n",
        "    else :\n",
        "       df.iloc[i,3]='Student'"
      ],
      "metadata": {
        "id": "nDN_a_BGn9JU"
      },
      "execution_count": null,
      "outputs": []
    },
    {
      "cell_type": "code",
      "source": [
        "df['work_authorization_status']=df['work_authorization_status'].replace(np.nan,'Citizen')"
      ],
      "metadata": {
        "id": "RAvy1kU3n9P7"
      },
      "execution_count": null,
      "outputs": []
    },
    {
      "cell_type": "code",
      "source": [
        "df['gender']=df['gender'].replace(np.nan,'Male')"
      ],
      "metadata": {
        "id": "tzGaz4FSrIwF"
      },
      "execution_count": null,
      "outputs": []
    },
    {
      "cell_type": "code",
      "source": [
        "df.isna().sum()"
      ],
      "metadata": {
        "colab": {
          "base_uri": "https://localhost:8080/"
        },
        "id": "qQ1Rvg6frKrK",
        "outputId": "5011a920-3fe6-4bb3-aab4-5536371ea0ba"
      },
      "execution_count": null,
      "outputs": [
        {
          "output_type": "execute_result",
          "data": {
            "text/plain": [
              "primary_track                  0\n",
              "program_duration_days          0\n",
              "placed                         0\n",
              "employment_status              0\n",
              "highest_level_of_education     0\n",
              "length_of_job_search           0\n",
              "biggest_challenge_in_search    0\n",
              "professional_experience        0\n",
              "work_authorization_status      0\n",
              "number_of_interviews           0\n",
              "number_of_applications         0\n",
              "gender                         0\n",
              "race                           0\n",
              "dtype: int64"
            ]
          },
          "metadata": {},
          "execution_count": 26
        }
      ]
    },
    {
      "cell_type": "code",
      "source": [
        "df.info()"
      ],
      "metadata": {
        "colab": {
          "base_uri": "https://localhost:8080/"
        },
        "id": "yOoBhrD1sFcK",
        "outputId": "88e6fcb4-cded-4134-9482-2bd32272431d"
      },
      "execution_count": null,
      "outputs": [
        {
          "output_type": "stream",
          "name": "stdout",
          "text": [
            "<class 'pandas.core.frame.DataFrame'>\n",
            "Int64Index: 1928 entries, 2 to 2543\n",
            "Data columns (total 13 columns):\n",
            " #   Column                       Non-Null Count  Dtype  \n",
            "---  ------                       --------------  -----  \n",
            " 0   primary_track                1928 non-null   object \n",
            " 1   program_duration_days        1928 non-null   float64\n",
            " 2   placed                       1928 non-null   int64  \n",
            " 3   employment_status            1928 non-null   object \n",
            " 4   highest_level_of_education   1928 non-null   object \n",
            " 5   length_of_job_search         1928 non-null   object \n",
            " 6   biggest_challenge_in_search  1928 non-null   object \n",
            " 7   professional_experience      1928 non-null   object \n",
            " 8   work_authorization_status    1928 non-null   object \n",
            " 9   number_of_interviews         1928 non-null   float64\n",
            " 10  number_of_applications       1928 non-null   int64  \n",
            " 11  gender                       1928 non-null   object \n",
            " 12  race                         1928 non-null   object \n",
            "dtypes: float64(2), int64(2), object(9)\n",
            "memory usage: 275.4+ KB\n"
          ]
        }
      ]
    },
    {
      "cell_type": "code",
      "source": [
        "df.to_csv('process_new.csv')"
      ],
      "metadata": {
        "id": "Ha3ta3r8sHRt"
      },
      "execution_count": null,
      "outputs": []
    },
    {
      "cell_type": "code",
      "source": [
        "from google.colab import files\n",
        "files.download(\"process_new.csv\")"
      ],
      "metadata": {
        "colab": {
          "base_uri": "https://localhost:8080/",
          "height": 17
        },
        "id": "lcLWOin-tABH",
        "outputId": "d5ca9587-8747-4830-e5ff-839ffac1d503"
      },
      "execution_count": null,
      "outputs": [
        {
          "output_type": "display_data",
          "data": {
            "text/plain": [
              "<IPython.core.display.Javascript object>"
            ],
            "application/javascript": [
              "\n",
              "    async function download(id, filename, size) {\n",
              "      if (!google.colab.kernel.accessAllowed) {\n",
              "        return;\n",
              "      }\n",
              "      const div = document.createElement('div');\n",
              "      const label = document.createElement('label');\n",
              "      label.textContent = `Downloading \"${filename}\": `;\n",
              "      div.appendChild(label);\n",
              "      const progress = document.createElement('progress');\n",
              "      progress.max = size;\n",
              "      div.appendChild(progress);\n",
              "      document.body.appendChild(div);\n",
              "\n",
              "      const buffers = [];\n",
              "      let downloaded = 0;\n",
              "\n",
              "      const channel = await google.colab.kernel.comms.open(id);\n",
              "      // Send a message to notify the kernel that we're ready.\n",
              "      channel.send({})\n",
              "\n",
              "      for await (const message of channel.messages) {\n",
              "        // Send a message to notify the kernel that we're ready.\n",
              "        channel.send({})\n",
              "        if (message.buffers) {\n",
              "          for (const buffer of message.buffers) {\n",
              "            buffers.push(buffer);\n",
              "            downloaded += buffer.byteLength;\n",
              "            progress.value = downloaded;\n",
              "          }\n",
              "        }\n",
              "      }\n",
              "      const blob = new Blob(buffers, {type: 'application/binary'});\n",
              "      const a = document.createElement('a');\n",
              "      a.href = window.URL.createObjectURL(blob);\n",
              "      a.download = filename;\n",
              "      div.appendChild(a);\n",
              "      a.click();\n",
              "      div.remove();\n",
              "    }\n",
              "  "
            ]
          },
          "metadata": {}
        },
        {
          "output_type": "display_data",
          "data": {
            "text/plain": [
              "<IPython.core.display.Javascript object>"
            ],
            "application/javascript": [
              "download(\"download_f2b5525e-80f3-45c3-b829-9947b477c219\", \"process_new.csv\", 332071)"
            ]
          },
          "metadata": {}
        }
      ]
    }
  ]
}